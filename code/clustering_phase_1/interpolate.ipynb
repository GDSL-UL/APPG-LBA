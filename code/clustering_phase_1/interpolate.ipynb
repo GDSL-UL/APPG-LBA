{
 "cells": [
  {
   "cell_type": "markdown",
   "metadata": {},
   "source": [
    "# Data extraction and areal interpolation\n",
    "\n",
    "This is the first notebook for the first phase of APPG-LBA project of Geographic Data Science Lab, University of Liverpool.\n",
    "\n",
    "For the best performance, it uses a custom environment based on Docker container `darribas/gds_py:6.0alpha1` updated to use pygeos=0.9, master version of GeoPandas (as of 23/02/2021 - to be 0.9.0 release) and custom development branch of tobler, which implements required categorical areal interpolation (https://github.com/martinfleis/tobler/tree/categorical).\n",
    "\n",
    "The notebook downloads required data (LSOA geography, CORINE Land Cover) and interpolates CLC to LSOA."
   ]
  },
  {
   "cell_type": "code",
   "execution_count": 2,
   "metadata": {},
   "outputs": [],
   "source": [
    "import geopandas as gpd\n",
    "import numpy as np\n",
    "import pandas as pd\n",
    "import tobler\n",
    "import zipfile\n",
    "import fiona\n",
    "import pygeos\n",
    "from shapely.geometry import box\n",
    "\n",
    "from download import download\n",
    "from tobler.area_weighted import area_interpolate"
   ]
  },
  {
   "cell_type": "code",
   "execution_count": 2,
   "metadata": {},
   "outputs": [
    {
     "data": {
      "text/plain": [
       "('0.7.0', '0.8.0+113.g4444f1a', '0.9')"
      ]
     },
     "execution_count": 2,
     "metadata": {},
     "output_type": "execute_result"
    }
   ],
   "source": [
    "tobler.__version__, gpd.__version__, pygeos.__version__"
   ]
  },
  {
   "cell_type": "markdown",
   "metadata": {},
   "source": [
    "## Download data\n",
    "\n",
    "All data are from open sources, either geoportal.statistics.gov.uk (LSOA) or land.copernicus.eu (CLC).\n",
    "\n",
    "### LSOA\n",
    "\n",
    "Lower Layer Super Output Areas (December 2011) Boundaries Full Clipped (BFC) EW V3\n",
    "\n",
    "Source: https://geoportal.statistics.gov.uk/datasets/lower-layer-super-output-areas-december-2011-boundaries-full-clipped-bfc-ew-v3?geometry=-33.813%2C48.013%2C29.468%2C57.298"
   ]
  },
  {
   "cell_type": "code",
   "execution_count": 3,
   "metadata": {},
   "outputs": [
    {
     "name": "stdout",
     "output_type": "stream",
     "text": [
      "Creating data folder...\n",
      "Downloading data from https://opendata.arcgis.com/datasets/1f23484eafea45f98485ef816e4fee2d_0.zip?outSR=%7B%22latestWkid%22%3A27700%2C%22wkid%22%3A27700%7D (1 byte)\n",
      "\n",
      "file_sizes: 222MB [00:06, 33.6MB/s]                                             \n",
      "Extracting zip file...\n",
      "Successfully downloaded / unzipped to ../../data/lsoa\n"
     ]
    }
   ],
   "source": [
    "lsoa_path = download(\"https://opendata.arcgis.com/datasets/1f23484eafea45f98485ef816e4fee2d_0.zip?outSR=%7B%22latestWkid%22%3A27700%2C%22wkid%22%3A27700%7D\",\n",
    "                     \"../../data/lsoa\", kind='zip')"
   ]
  },
  {
   "cell_type": "markdown",
   "metadata": {},
   "source": [
    "### CORINE Land Cover\n",
    "\n",
    "Downloading CORINE Land Cover requires login, after which we can generate temporary link. The links used below will not work anymore and to reproduce the code, one needs to request a new link from the Copernicus portal.\n",
    "\n",
    "https://land.copernicus.eu/pan-european/corine-land-cover\n",
    "\n",
    "Data for all years covering England (2000, 2006, 2012, 2018) are downloaded and unzipped. The selected format is GPKG vector layer."
   ]
  },
  {
   "cell_type": "code",
   "execution_count": 4,
   "metadata": {},
   "outputs": [
    {
     "name": "stdout",
     "output_type": "stream",
     "text": [
      "Creating data folder...\n",
      "Downloading data from https://land.copernicus.eu/land-files/862d37e5a0aeacfbf09285152a2f34c0cb8e84e8.zip (2.18 GB)\n",
      "\n",
      "file_sizes: 100%|██████████████████████████| 2.34G/2.34G [00:47<00:00, 49.3MB/s]\n",
      "Extracting zip file...\n",
      "Successfully downloaded / unzipped to ../../data/clc/2000\n"
     ]
    }
   ],
   "source": [
    "clc2000 = download(\"https://land.copernicus.eu/land-files/862d37e5a0aeacfbf09285152a2f34c0cb8e84e8.zip\",\n",
    "                  \"../../data/clc/2000\", kind='zip')"
   ]
  },
  {
   "cell_type": "code",
   "execution_count": 12,
   "metadata": {},
   "outputs": [],
   "source": [
    "with zipfile.ZipFile(clc2000 + \"/u2006_clc2000_v2020_20u1_geoPackage.zip\", 'r') as zip_ref:\n",
    "    zip_ref.extractall(\"../../data/clc/2000\")"
   ]
  },
  {
   "cell_type": "code",
   "execution_count": 5,
   "metadata": {},
   "outputs": [
    {
     "name": "stdout",
     "output_type": "stream",
     "text": [
      "Creating data folder...\n",
      "Downloading data from https://land.copernicus.eu/land-files/2962e747e238a4045503652b61f986675122c45c.zip (3.05 GB)\n",
      "\n",
      "file_sizes: 100%|██████████████████████████| 3.27G/3.27G [00:52<00:00, 62.5MB/s]\n",
      "Extracting zip file...\n",
      "Successfully downloaded / unzipped to ../../data/clc/2006\n"
     ]
    }
   ],
   "source": [
    "clc2006 = download(\"https://land.copernicus.eu/land-files/2962e747e238a4045503652b61f986675122c45c.zip\",\n",
    "                  \"../../data/clc/2006\", kind='zip')"
   ]
  },
  {
   "cell_type": "code",
   "execution_count": 13,
   "metadata": {},
   "outputs": [],
   "source": [
    "with zipfile.ZipFile(clc2006 + \"/u2012_clc2006_v2020_20u1_geoPackage.zip\", 'r') as zip_ref:\n",
    "    zip_ref.extractall(\"../../data/clc/2006\")"
   ]
  },
  {
   "cell_type": "code",
   "execution_count": 6,
   "metadata": {},
   "outputs": [
    {
     "name": "stdout",
     "output_type": "stream",
     "text": [
      "Creating data folder...\n",
      "Downloading data from https://land.copernicus.eu/land-files/2fd769e3afcef57f2e47ae4ea566140d226e78eb.zip (3.52 GB)\n",
      "\n",
      "file_sizes: 100%|██████████████████████████| 3.78G/3.78G [01:48<00:00, 34.8MB/s]\n",
      "Extracting zip file...\n",
      "Successfully downloaded / unzipped to ../../data/clc/2012\n"
     ]
    }
   ],
   "source": [
    "clc2012 = download(\"https://land.copernicus.eu/land-files/2fd769e3afcef57f2e47ae4ea566140d226e78eb.zip\",\n",
    "                  \"../../data/clc/2012\", kind='zip')"
   ]
  },
  {
   "cell_type": "code",
   "execution_count": 14,
   "metadata": {},
   "outputs": [],
   "source": [
    "with zipfile.ZipFile(clc2012 + \"/u2018_clc2012_v2020_20u1_geoPackage.zip\", 'r') as zip_ref:\n",
    "    zip_ref.extractall(\"../../data/clc/2012\")"
   ]
  },
  {
   "cell_type": "code",
   "execution_count": 7,
   "metadata": {},
   "outputs": [
    {
     "name": "stdout",
     "output_type": "stream",
     "text": [
      "Creating data folder...\n",
      "Downloading data from https://land.copernicus.eu/land-files/1cefc5e87d3cecf0f145fc4d0823668669f51423.zip (3.50 GB)\n",
      "\n",
      "file_sizes: 100%|██████████████████████████| 3.76G/3.76G [01:51<00:00, 33.7MB/s]\n",
      "Extracting zip file...\n",
      "Successfully downloaded / unzipped to ../../data/clc/2018\n"
     ]
    }
   ],
   "source": [
    "clc2018 = download(\"https://land.copernicus.eu/land-files/1cefc5e87d3cecf0f145fc4d0823668669f51423.zip\",\n",
    "                  \"../../data/clc/2018\", kind='zip')"
   ]
  },
  {
   "cell_type": "code",
   "execution_count": 15,
   "metadata": {},
   "outputs": [],
   "source": [
    "with zipfile.ZipFile(clc2018 + \"/u2018_clc2018_v2020_20u1_geoPackage.zip\", 'r') as zip_ref:\n",
    "    zip_ref.extractall(\"../../data/clc/2018\")"
   ]
  },
  {
   "cell_type": "markdown",
   "metadata": {},
   "source": [
    "## Interpolate categories\n",
    "\n",
    "Having all data downloaded, we can interpolate CLC classification onto LSOA geoemtry."
   ]
  },
  {
   "cell_type": "code",
   "execution_count": 4,
   "metadata": {},
   "outputs": [],
   "source": [
    "lsoa_path = \"../../data/lsoa\"\n",
    "lsoa = gpd.read_file(lsoa_path)"
   ]
  },
  {
   "cell_type": "markdown",
   "metadata": {},
   "source": [
    "Since CLC data cover the whole Europe, we will filter them on read by a bounding box of LSOA GeoDataFrame."
   ]
  },
  {
   "cell_type": "code",
   "execution_count": 5,
   "metadata": {},
   "outputs": [],
   "source": [
    "bbox = gpd.GeoSeries([box(*lsoa.total_bounds)], crs=lsoa.crs).to_crs(3035)"
   ]
  },
  {
   "cell_type": "markdown",
   "metadata": {},
   "source": [
    "### 2000\n",
    "\n",
    "Check layers to make sure we're loading the correct one."
   ]
  },
  {
   "cell_type": "code",
   "execution_count": 6,
   "metadata": {},
   "outputs": [
    {
     "data": {
      "text/plain": [
       "['U2006_CLC2000_V2020_20u1']"
      ]
     },
     "execution_count": 6,
     "metadata": {},
     "output_type": "execute_result"
    }
   ],
   "source": [
    "path2000 = \"../../data/clc/2000/u2006_clc2000_v2020_20u1_geoPackage/DATA/U2006_CLC2000_V2020_20u1.gpkg\"\n",
    "lyr = fiona.listlayers(path2000)\n",
    "lyr"
   ]
  },
  {
   "cell_type": "markdown",
   "metadata": {},
   "source": [
    "Read data within the bounding box."
   ]
  },
  {
   "cell_type": "code",
   "execution_count": 7,
   "metadata": {},
   "outputs": [
    {
     "name": "stderr",
     "output_type": "stream",
     "text": [
      "/opt/conda/lib/python3.8/site-packages/geopandas/geodataframe.py:565: RuntimeWarning: Sequential read of iterator was interrupted. Resetting iterator. This can negatively impact the performance.\n",
      "  for feature in features_lst:\n"
     ]
    }
   ],
   "source": [
    "clc2000 = gpd.read_file(path2000, bbox=bbox)"
   ]
  },
  {
   "cell_type": "markdown",
   "metadata": {},
   "source": [
    "Reproject to CRS of LSOA."
   ]
  },
  {
   "cell_type": "code",
   "execution_count": 8,
   "metadata": {},
   "outputs": [],
   "source": [
    "clc2000 = clc2000.to_crs(lsoa.crs)"
   ]
  },
  {
   "cell_type": "code",
   "execution_count": 9,
   "metadata": {},
   "outputs": [
    {
     "data": {
      "text/plain": [
       "Index(['code_00', 'ID', 'Remark', 'Area_Ha', 'geometry'], dtype='object')"
      ]
     },
     "execution_count": 9,
     "metadata": {},
     "output_type": "execute_result"
    }
   ],
   "source": [
    "clc2000.columns"
   ]
  },
  {
   "cell_type": "markdown",
   "metadata": {},
   "source": [
    "Rename `'code_00'`, the column with classification."
   ]
  },
  {
   "cell_type": "code",
   "execution_count": 10,
   "metadata": {},
   "outputs": [],
   "source": [
    "clc2000 = clc2000.rename(columns={\"code_00\": \"land_cover\"})"
   ]
  },
  {
   "cell_type": "markdown",
   "metadata": {},
   "source": [
    "Interpolate data to LSOA geometry."
   ]
  },
  {
   "cell_type": "code",
   "execution_count": 11,
   "metadata": {},
   "outputs": [
    {
     "name": "stdout",
     "output_type": "stream",
     "text": [
      "CPU times: user 5min 49s, sys: 8.96 s, total: 5min 58s\n",
      "Wall time: 6min 46s\n"
     ]
    }
   ],
   "source": [
    "%%time\n",
    "lsoa_clc2000 = area_interpolate(clc2000, lsoa, categorical_variables=[\"land_cover\"], n_jobs=15)"
   ]
  },
  {
   "cell_type": "markdown",
   "metadata": {},
   "source": [
    "Save to a temporary parquet file."
   ]
  },
  {
   "cell_type": "code",
   "execution_count": 13,
   "metadata": {},
   "outputs": [
    {
     "name": "stderr",
     "output_type": "stream",
     "text": [
      "<ipython-input-13-880e04f11f1a>:1: UserWarning: this is an initial implementation of Parquet/Feather file support and associated metadata.  This is tracking version 0.1.0 of the metadata specification at https://github.com/geopandas/geo-arrow-spec\n",
      "\n",
      "This metadata specification does not yet make stability promises.  We do not yet recommend using this in a production setting unless you are able to rewrite your Parquet/Feather files.\n",
      "\n",
      "To further ignore this warning, you can do: \n",
      "import warnings; warnings.filterwarnings('ignore', message='.*initial implementation of Parquet.*')\n",
      "  lsoa_clc2000.to_parquet(\"../../data/clustering_phase_1/lsoa_clc2000.pq\")\n"
     ]
    }
   ],
   "source": [
    "lsoa_clc2000.to_parquet(\"../../data/clustering_phase_1/lsoa_clc2000.pq\")"
   ]
  },
  {
   "cell_type": "markdown",
   "metadata": {},
   "source": [
    "### 2006\n",
    "\n",
    "Check layers to make sure we're loading the correct one."
   ]
  },
  {
   "cell_type": "code",
   "execution_count": 21,
   "metadata": {},
   "outputs": [
    {
     "data": {
      "text/plain": [
       "['U2012_CLC2006_V2020_20u1',\n",
       " 'U2012_CLC2006_V2020_20u1_FR_REU',\n",
       " 'U2012_CLC2006_V2020_20u1_FR_GLP',\n",
       " 'U2012_CLC2006_V2020_20u1_FR_GUF',\n",
       " 'U2012_CLC2006_V2020_20u1_FR_MTQ',\n",
       " 'U2012_CLC2006_V2020_20u1_FR_MYT']"
      ]
     },
     "execution_count": 21,
     "metadata": {},
     "output_type": "execute_result"
    }
   ],
   "source": [
    "path2006 = \"../../data/clc/2006/u2012_clc2006_v2020_20u1_geoPackage/DATA/U2012_CLC2006_V2020_20u1.gpkg\"\n",
    "lyr = fiona.listlayers(path2006)\n",
    "lyr"
   ]
  },
  {
   "cell_type": "markdown",
   "metadata": {},
   "source": [
    "Read data within the bounding box and reproject to CRS of LSOA."
   ]
  },
  {
   "cell_type": "code",
   "execution_count": 22,
   "metadata": {},
   "outputs": [
    {
     "name": "stderr",
     "output_type": "stream",
     "text": [
      "/opt/conda/lib/python3.8/site-packages/geopandas/geodataframe.py:565: RuntimeWarning: Sequential read of iterator was interrupted. Resetting iterator. This can negatively impact the performance.\n",
      "  for feature in features_lst:\n"
     ]
    },
    {
     "data": {
      "text/plain": [
       "Index(['Code_06', 'ID', 'Remark', 'Area_Ha', 'geometry'], dtype='object')"
      ]
     },
     "execution_count": 22,
     "metadata": {},
     "output_type": "execute_result"
    }
   ],
   "source": [
    "clc2006 = gpd.read_file(path2006, bbox=bbox, layer=\"U2012_CLC2006_V2020_20u1\")\n",
    "clc2006 = clc2006.to_crs(lsoa.crs)\n",
    "clc2006.columns"
   ]
  },
  {
   "cell_type": "markdown",
   "metadata": {},
   "source": [
    "Rename `'Code_06'`, the column with classification."
   ]
  },
  {
   "cell_type": "code",
   "execution_count": 23,
   "metadata": {},
   "outputs": [],
   "source": [
    "clc2006 = clc2006.rename(columns={\"Code_06\": \"land_cover\"})"
   ]
  },
  {
   "cell_type": "markdown",
   "metadata": {},
   "source": [
    "Interpolate data to LSOA geometry.Interpolate data to LSOA geometry.\n"
   ]
  },
  {
   "cell_type": "code",
   "execution_count": 25,
   "metadata": {},
   "outputs": [
    {
     "name": "stdout",
     "output_type": "stream",
     "text": [
      "CPU times: user 7min 14s, sys: 8.96 s, total: 7min 23s\n",
      "Wall time: 7min 49s\n"
     ]
    }
   ],
   "source": [
    "%%time\n",
    "lsoa_clc2006 = area_interpolate(clc2006, lsoa, categorical_variables=[\"land_cover\"], n_jobs=15)"
   ]
  },
  {
   "cell_type": "markdown",
   "metadata": {},
   "source": [
    "Save to a temporary parquet file."
   ]
  },
  {
   "cell_type": "code",
   "execution_count": 26,
   "metadata": {
    "collapsed": true,
    "jupyter": {
     "outputs_hidden": true
    }
   },
   "outputs": [
    {
     "name": "stderr",
     "output_type": "stream",
     "text": [
      "<ipython-input-26-7581f1724a52>:1: UserWarning: this is an initial implementation of Parquet/Feather file support and associated metadata.  This is tracking version 0.1.0 of the metadata specification at https://github.com/geopandas/geo-arrow-spec\n",
      "\n",
      "This metadata specification does not yet make stability promises.  We do not yet recommend using this in a production setting unless you are able to rewrite your Parquet/Feather files.\n",
      "\n",
      "To further ignore this warning, you can do: \n",
      "import warnings; warnings.filterwarnings('ignore', message='.*initial implementation of Parquet.*')\n",
      "  lsoa_clc2006.to_parquet(\"../../data/clustering_phase_1/lsoa_clc2006.pq\")\n"
     ]
    }
   ],
   "source": [
    "lsoa_clc2006.to_parquet(\"../../data/clustering_phase_1/lsoa_clc2006.pq\")"
   ]
  },
  {
   "cell_type": "markdown",
   "metadata": {},
   "source": [
    "### 2012\n",
    "\n",
    "Check layers to make sure we're loading the correct one."
   ]
  },
  {
   "cell_type": "code",
   "execution_count": 27,
   "metadata": {},
   "outputs": [
    {
     "data": {
      "text/plain": [
       "['U2018_CLC2012_V2020_20u1',\n",
       " 'U2018_CLC2012_V2020_20u1_FR_REU',\n",
       " 'U2018_CLC2012_V2020_20u1_FR_GLP',\n",
       " 'U2018_CLC2012_V2020_20u1_FR_GUF',\n",
       " 'U2018_CLC2012_V2020_20u1_FR_MTQ',\n",
       " 'U2018_CLC2012_V2020_20u1_FR_MYT']"
      ]
     },
     "execution_count": 27,
     "metadata": {},
     "output_type": "execute_result"
    }
   ],
   "source": [
    "path2012 = \"../../data/clc/2012/u2018_clc2012_v2020_20u1_geoPackage/DATA/U2018_CLC2012_V2020_20u1.gpkg\"\n",
    "lyr = fiona.listlayers(path2012)\n",
    "lyr"
   ]
  },
  {
   "cell_type": "markdown",
   "metadata": {},
   "source": [
    "Read data within the bounding box and reproject to CRS of LSOA."
   ]
  },
  {
   "cell_type": "code",
   "execution_count": 28,
   "metadata": {},
   "outputs": [
    {
     "name": "stderr",
     "output_type": "stream",
     "text": [
      "/opt/conda/lib/python3.8/site-packages/geopandas/geodataframe.py:565: RuntimeWarning: Sequential read of iterator was interrupted. Resetting iterator. This can negatively impact the performance.\n",
      "  for feature in features_lst:\n"
     ]
    },
    {
     "data": {
      "text/plain": [
       "Index(['Code_12', 'Remark', 'Area_Ha', 'ID', 'geometry'], dtype='object')"
      ]
     },
     "execution_count": 28,
     "metadata": {},
     "output_type": "execute_result"
    }
   ],
   "source": [
    "clc2012 = gpd.read_file(path2012, bbox=bbox)\n",
    "clc2012 = clc2012.to_crs(lsoa.crs)\n",
    "clc2012.columns"
   ]
  },
  {
   "cell_type": "markdown",
   "metadata": {},
   "source": [
    "Rename `'Code_12'`, the column with classification."
   ]
  },
  {
   "cell_type": "code",
   "execution_count": 29,
   "metadata": {},
   "outputs": [],
   "source": [
    "clc2012 = clc2012.rename(columns={\"Code_12\": \"land_cover\"})"
   ]
  },
  {
   "cell_type": "markdown",
   "metadata": {},
   "source": [
    "Interpolate data to LSOA geometry.\n"
   ]
  },
  {
   "cell_type": "code",
   "execution_count": 30,
   "metadata": {},
   "outputs": [
    {
     "name": "stdout",
     "output_type": "stream",
     "text": [
      "CPU times: user 7min 23s, sys: 9.5 s, total: 7min 32s\n",
      "Wall time: 7min 57s\n"
     ]
    }
   ],
   "source": [
    "%%time\n",
    "lsoa_clc2012 = area_interpolate(clc2012, lsoa, categorical_variables=[\"land_cover\"], n_jobs=15)"
   ]
  },
  {
   "cell_type": "markdown",
   "metadata": {},
   "source": [
    "Save to a temporary parquet file.\n"
   ]
  },
  {
   "cell_type": "code",
   "execution_count": 37,
   "metadata": {
    "collapsed": true,
    "jupyter": {
     "outputs_hidden": true
    }
   },
   "outputs": [
    {
     "name": "stderr",
     "output_type": "stream",
     "text": [
      "<ipython-input-37-54616977a04e>:1: UserWarning: this is an initial implementation of Parquet/Feather file support and associated metadata.  This is tracking version 0.1.0 of the metadata specification at https://github.com/geopandas/geo-arrow-spec\n",
      "\n",
      "This metadata specification does not yet make stability promises.  We do not yet recommend using this in a production setting unless you are able to rewrite your Parquet/Feather files.\n",
      "\n",
      "To further ignore this warning, you can do: \n",
      "import warnings; warnings.filterwarnings('ignore', message='.*initial implementation of Parquet.*')\n",
      "  lsoa_clc2012.to_parquet(\"../../data/clustering_phase_1/lsoa_clc2012.pq\")\n"
     ]
    }
   ],
   "source": [
    "lsoa_clc2012.to_parquet(\"../../data/clustering_phase_1/lsoa_clc2012.pq\")"
   ]
  },
  {
   "cell_type": "markdown",
   "metadata": {},
   "source": [
    "### 2018\n",
    "\n",
    "Check layers to make sure we're loading the correct one."
   ]
  },
  {
   "cell_type": "code",
   "execution_count": 31,
   "metadata": {},
   "outputs": [
    {
     "data": {
      "text/plain": [
       "['U2018_CLC2018_V2020_20u1',\n",
       " 'U2018_CLC2018_V2020_20u1_FR_REU',\n",
       " 'U2018_CLC2018_V2020_20u1_FR_GLP',\n",
       " 'U2018_CLC2018_V2020_20u1_FR_GUF',\n",
       " 'U2018_CLC2018_V2020_20u1_FR_MTQ',\n",
       " 'U2018_CLC2018_V2020_20u1_FR_MYT']"
      ]
     },
     "execution_count": 31,
     "metadata": {},
     "output_type": "execute_result"
    }
   ],
   "source": [
    "path2018 = \"../../data/clc/2018/u2018_clc2018_v2020_20u1_geoPackage/DATA/U2018_CLC2018_V2020_20u1.gpkg\"\n",
    "lyr = fiona.listlayers(path2018)\n",
    "lyr"
   ]
  },
  {
   "cell_type": "markdown",
   "metadata": {},
   "source": [
    "Read data within the bounding box and reproject to CRS of LSOA.\n"
   ]
  },
  {
   "cell_type": "code",
   "execution_count": 32,
   "metadata": {},
   "outputs": [
    {
     "name": "stderr",
     "output_type": "stream",
     "text": [
      "/opt/conda/lib/python3.8/site-packages/geopandas/geodataframe.py:565: RuntimeWarning: Sequential read of iterator was interrupted. Resetting iterator. This can negatively impact the performance.\n",
      "  for feature in features_lst:\n"
     ]
    },
    {
     "data": {
      "text/plain": [
       "Index(['Code_18', 'Remark', 'Area_Ha', 'ID', 'geometry'], dtype='object')"
      ]
     },
     "execution_count": 32,
     "metadata": {},
     "output_type": "execute_result"
    }
   ],
   "source": [
    "clc2018 = gpd.read_file(path2018, bbox=bbox)\n",
    "clc2018 = clc2018.to_crs(lsoa.crs)\n",
    "clc2018.columns"
   ]
  },
  {
   "cell_type": "markdown",
   "metadata": {},
   "source": [
    "Rename `'Code_18'`, the column with classification."
   ]
  },
  {
   "cell_type": "code",
   "execution_count": 33,
   "metadata": {},
   "outputs": [],
   "source": [
    "clc2018 = clc2018.rename(columns={\"Code_18\": \"land_cover\"})"
   ]
  },
  {
   "cell_type": "markdown",
   "metadata": {},
   "source": [
    "Interpolate data to LSOA geometry.\n"
   ]
  },
  {
   "cell_type": "code",
   "execution_count": 34,
   "metadata": {},
   "outputs": [
    {
     "name": "stdout",
     "output_type": "stream",
     "text": [
      "CPU times: user 7min 28s, sys: 9.65 s, total: 7min 38s\n",
      "Wall time: 8min 5s\n"
     ]
    }
   ],
   "source": [
    "%%time\n",
    "lsoa_clc2018 = area_interpolate(clc2018, lsoa, categorical_variables=[\"land_cover\"], n_jobs=15)"
   ]
  },
  {
   "cell_type": "markdown",
   "metadata": {},
   "source": [
    "Save to a temporary parquet file."
   ]
  },
  {
   "cell_type": "code",
   "execution_count": 36,
   "metadata": {
    "collapsed": true,
    "jupyter": {
     "outputs_hidden": true
    }
   },
   "outputs": [
    {
     "name": "stderr",
     "output_type": "stream",
     "text": [
      "<ipython-input-36-b29cc3faa52e>:1: UserWarning: this is an initial implementation of Parquet/Feather file support and associated metadata.  This is tracking version 0.1.0 of the metadata specification at https://github.com/geopandas/geo-arrow-spec\n",
      "\n",
      "This metadata specification does not yet make stability promises.  We do not yet recommend using this in a production setting unless you are able to rewrite your Parquet/Feather files.\n",
      "\n",
      "To further ignore this warning, you can do: \n",
      "import warnings; warnings.filterwarnings('ignore', message='.*initial implementation of Parquet.*')\n",
      "  lsoa_clc2018.to_parquet(\"../../data/clustering_phase_1/lsoa_clc2018.pq\")\n"
     ]
    }
   ],
   "source": [
    "lsoa_clc2018.to_parquet(\"../../data/clustering_phase_1/lsoa_clc2018.pq\")"
   ]
  },
  {
   "cell_type": "markdown",
   "metadata": {},
   "source": [
    "## Create single table"
   ]
  },
  {
   "cell_type": "code",
   "execution_count": 36,
   "metadata": {},
   "outputs": [],
   "source": [
    "lsoa_clc2000 = gpd.read_parquet(\"../../data/clustering_phase_1/lsoa_clc2000.pq\")\n",
    "lsoa_clc2006 = gpd.read_parquet(\"../../data/clustering_phase_1/lsoa_clc2006.pq\")\n",
    "lsoa_clc2012 = gpd.read_parquet(\"../../data/clustering_phase_1/lsoa_clc2012.pq\")\n",
    "lsoa_clc2018 = gpd.read_parquet(\"../../data/clustering_phase_1/lsoa_clc2018.pq\")"
   ]
  },
  {
   "cell_type": "code",
   "execution_count": 28,
   "metadata": {},
   "outputs": [],
   "source": [
    "legend = pd.read_csv(\"../../data/clc/2018/u2018_clc2018_v2020_20u1_geoPackage/Legend/CLC_legend.csv\", sep=\";\")"
   ]
  },
  {
   "cell_type": "code",
   "execution_count": 29,
   "metadata": {},
   "outputs": [],
   "source": [
    "legend = legend.set_index(\"CLC_CODE\")"
   ]
  },
  {
   "cell_type": "code",
   "execution_count": 37,
   "metadata": {},
   "outputs": [],
   "source": [
    "rename = {}\n",
    "for p in [lsoa_clc2000, lsoa_clc2006, lsoa_clc2012, lsoa_clc2018]:\n",
    "    for c in p.columns.drop('geometry'):\n",
    "        rename[c] = legend.LABEL3[int(c[-3:])] + f\" [{c[-3:]}]\""
   ]
  },
  {
   "cell_type": "code",
   "execution_count": 38,
   "metadata": {},
   "outputs": [],
   "source": [
    "for p in [lsoa_clc2000, lsoa_clc2006, lsoa_clc2012, lsoa_clc2018]:\n",
    "    p.rename(columns=rename, inplace=True)"
   ]
  },
  {
   "cell_type": "code",
   "execution_count": 39,
   "metadata": {},
   "outputs": [],
   "source": [
    "for year, p in zip([2000, 2006, 2012, 2018], [lsoa_clc2000, lsoa_clc2006, lsoa_clc2012, lsoa_clc2018]):\n",
    "    rename = {} \n",
    "    for c in p.columns.drop('geometry'):\n",
    "        rename[c] = c + f\" ({year})\"\n",
    "    p.rename(columns=rename, inplace=True)"
   ]
  },
  {
   "cell_type": "code",
   "execution_count": 41,
   "metadata": {},
   "outputs": [],
   "source": [
    "complete = pd.concat([lsoa_clc2000.drop(columns='geometry'), lsoa_clc2006.drop(columns='geometry'), \n",
    "                      lsoa_clc2012.drop(columns='geometry'), lsoa_clc2018.drop(columns='geometry')], axis=1)"
   ]
  },
  {
   "cell_type": "code",
   "execution_count": 43,
   "metadata": {},
   "outputs": [],
   "source": [
    "lsoa_path = \"../../data/lsoa\"\n",
    "lsoa_inp = gpd.read_file(lsoa_path)"
   ]
  },
  {
   "cell_type": "code",
   "execution_count": 45,
   "metadata": {},
   "outputs": [],
   "source": [
    "complete = pd.concat([lsoa_inp[['LSOA11CD', 'LSOA11NM']], complete], axis=1)"
   ]
  },
  {
   "cell_type": "code",
   "execution_count": 47,
   "metadata": {},
   "outputs": [],
   "source": [
    "complete.to_csv(\"../../data/lsoa_land_cover.csv\")"
   ]
  },
  {
   "cell_type": "code",
   "execution_count": 48,
   "metadata": {},
   "outputs": [
    {
     "data": {
      "text/html": [
       "<div>\n",
       "<style scoped>\n",
       "    .dataframe tbody tr th:only-of-type {\n",
       "        vertical-align: middle;\n",
       "    }\n",
       "\n",
       "    .dataframe tbody tr th {\n",
       "        vertical-align: top;\n",
       "    }\n",
       "\n",
       "    .dataframe thead th {\n",
       "        text-align: right;\n",
       "    }\n",
       "</style>\n",
       "<table border=\"1\" class=\"dataframe\">\n",
       "  <thead>\n",
       "    <tr style=\"text-align: right;\">\n",
       "      <th></th>\n",
       "      <th>LSOA11CD</th>\n",
       "      <th>LSOA11NM</th>\n",
       "      <th>Continuous urban fabric [111] (2000)</th>\n",
       "      <th>Discontinuous urban fabric [112] (2000)</th>\n",
       "      <th>Industrial or commercial units [121] (2000)</th>\n",
       "      <th>Road and rail networks and associated land [122] (2000)</th>\n",
       "      <th>Port areas [123] (2000)</th>\n",
       "      <th>Airports [124] (2000)</th>\n",
       "      <th>Mineral extraction sites [131] (2000)</th>\n",
       "      <th>Dump sites [132] (2000)</th>\n",
       "      <th>...</th>\n",
       "      <th>Road and rail networks and associated land [122] (2018)</th>\n",
       "      <th>Water courses [511] (2018)</th>\n",
       "      <th>Water bodies [512] (2018)</th>\n",
       "      <th>Dump sites [132] (2018)</th>\n",
       "      <th>Sparsely vegetated areas [333] (2018)</th>\n",
       "      <th>Bare rocks [332] (2018)</th>\n",
       "      <th>Sea and ocean [523] (2018)</th>\n",
       "      <th>Burnt areas [334] (2018)</th>\n",
       "      <th>Fruit trees and berry plantations [222] (2018)</th>\n",
       "      <th>Agro-forestry areas [244] (2018)</th>\n",
       "    </tr>\n",
       "  </thead>\n",
       "  <tbody>\n",
       "    <tr>\n",
       "      <th>0</th>\n",
       "      <td>E01000001</td>\n",
       "      <td>City of London 001A</td>\n",
       "      <td>1.0</td>\n",
       "      <td>0.0</td>\n",
       "      <td>0.0</td>\n",
       "      <td>0.0</td>\n",
       "      <td>0.0</td>\n",
       "      <td>0.0</td>\n",
       "      <td>0.0</td>\n",
       "      <td>0.0</td>\n",
       "      <td>...</td>\n",
       "      <td>0.0</td>\n",
       "      <td>0.0</td>\n",
       "      <td>0.0</td>\n",
       "      <td>0.0</td>\n",
       "      <td>0.0</td>\n",
       "      <td>0.0</td>\n",
       "      <td>0.0</td>\n",
       "      <td>0.0</td>\n",
       "      <td>0.0</td>\n",
       "      <td>0.0</td>\n",
       "    </tr>\n",
       "    <tr>\n",
       "      <th>1</th>\n",
       "      <td>E01000002</td>\n",
       "      <td>City of London 001B</td>\n",
       "      <td>1.0</td>\n",
       "      <td>0.0</td>\n",
       "      <td>0.0</td>\n",
       "      <td>0.0</td>\n",
       "      <td>0.0</td>\n",
       "      <td>0.0</td>\n",
       "      <td>0.0</td>\n",
       "      <td>0.0</td>\n",
       "      <td>...</td>\n",
       "      <td>0.0</td>\n",
       "      <td>0.0</td>\n",
       "      <td>0.0</td>\n",
       "      <td>0.0</td>\n",
       "      <td>0.0</td>\n",
       "      <td>0.0</td>\n",
       "      <td>0.0</td>\n",
       "      <td>0.0</td>\n",
       "      <td>0.0</td>\n",
       "      <td>0.0</td>\n",
       "    </tr>\n",
       "    <tr>\n",
       "      <th>2</th>\n",
       "      <td>E01000003</td>\n",
       "      <td>City of London 001C</td>\n",
       "      <td>1.0</td>\n",
       "      <td>0.0</td>\n",
       "      <td>0.0</td>\n",
       "      <td>0.0</td>\n",
       "      <td>0.0</td>\n",
       "      <td>0.0</td>\n",
       "      <td>0.0</td>\n",
       "      <td>0.0</td>\n",
       "      <td>...</td>\n",
       "      <td>0.0</td>\n",
       "      <td>0.0</td>\n",
       "      <td>0.0</td>\n",
       "      <td>0.0</td>\n",
       "      <td>0.0</td>\n",
       "      <td>0.0</td>\n",
       "      <td>0.0</td>\n",
       "      <td>0.0</td>\n",
       "      <td>0.0</td>\n",
       "      <td>0.0</td>\n",
       "    </tr>\n",
       "    <tr>\n",
       "      <th>3</th>\n",
       "      <td>E01000005</td>\n",
       "      <td>City of London 001E</td>\n",
       "      <td>1.0</td>\n",
       "      <td>0.0</td>\n",
       "      <td>0.0</td>\n",
       "      <td>0.0</td>\n",
       "      <td>0.0</td>\n",
       "      <td>0.0</td>\n",
       "      <td>0.0</td>\n",
       "      <td>0.0</td>\n",
       "      <td>...</td>\n",
       "      <td>0.0</td>\n",
       "      <td>0.0</td>\n",
       "      <td>0.0</td>\n",
       "      <td>0.0</td>\n",
       "      <td>0.0</td>\n",
       "      <td>0.0</td>\n",
       "      <td>0.0</td>\n",
       "      <td>0.0</td>\n",
       "      <td>0.0</td>\n",
       "      <td>0.0</td>\n",
       "    </tr>\n",
       "    <tr>\n",
       "      <th>4</th>\n",
       "      <td>E01000006</td>\n",
       "      <td>Barking and Dagenham 016A</td>\n",
       "      <td>0.0</td>\n",
       "      <td>1.0</td>\n",
       "      <td>0.0</td>\n",
       "      <td>0.0</td>\n",
       "      <td>0.0</td>\n",
       "      <td>0.0</td>\n",
       "      <td>0.0</td>\n",
       "      <td>0.0</td>\n",
       "      <td>...</td>\n",
       "      <td>0.0</td>\n",
       "      <td>0.0</td>\n",
       "      <td>0.0</td>\n",
       "      <td>0.0</td>\n",
       "      <td>0.0</td>\n",
       "      <td>0.0</td>\n",
       "      <td>0.0</td>\n",
       "      <td>0.0</td>\n",
       "      <td>0.0</td>\n",
       "      <td>0.0</td>\n",
       "    </tr>\n",
       "  </tbody>\n",
       "</table>\n",
       "<p>5 rows × 145 columns</p>\n",
       "</div>"
      ],
      "text/plain": [
       "    LSOA11CD                   LSOA11NM  Continuous urban fabric [111] (2000)  \\\n",
       "0  E01000001        City of London 001A                                   1.0   \n",
       "1  E01000002        City of London 001B                                   1.0   \n",
       "2  E01000003        City of London 001C                                   1.0   \n",
       "3  E01000005        City of London 001E                                   1.0   \n",
       "4  E01000006  Barking and Dagenham 016A                                   0.0   \n",
       "\n",
       "   Discontinuous urban fabric [112] (2000)  \\\n",
       "0                                      0.0   \n",
       "1                                      0.0   \n",
       "2                                      0.0   \n",
       "3                                      0.0   \n",
       "4                                      1.0   \n",
       "\n",
       "   Industrial or commercial units [121] (2000)  \\\n",
       "0                                          0.0   \n",
       "1                                          0.0   \n",
       "2                                          0.0   \n",
       "3                                          0.0   \n",
       "4                                          0.0   \n",
       "\n",
       "   Road and rail networks and associated land [122] (2000)  \\\n",
       "0                                                0.0         \n",
       "1                                                0.0         \n",
       "2                                                0.0         \n",
       "3                                                0.0         \n",
       "4                                                0.0         \n",
       "\n",
       "   Port areas [123] (2000)  Airports [124] (2000)  \\\n",
       "0                      0.0                    0.0   \n",
       "1                      0.0                    0.0   \n",
       "2                      0.0                    0.0   \n",
       "3                      0.0                    0.0   \n",
       "4                      0.0                    0.0   \n",
       "\n",
       "   Mineral extraction sites [131] (2000)  Dump sites [132] (2000)  ...  \\\n",
       "0                                    0.0                      0.0  ...   \n",
       "1                                    0.0                      0.0  ...   \n",
       "2                                    0.0                      0.0  ...   \n",
       "3                                    0.0                      0.0  ...   \n",
       "4                                    0.0                      0.0  ...   \n",
       "\n",
       "   Road and rail networks and associated land [122] (2018)  \\\n",
       "0                                                0.0         \n",
       "1                                                0.0         \n",
       "2                                                0.0         \n",
       "3                                                0.0         \n",
       "4                                                0.0         \n",
       "\n",
       "   Water courses [511] (2018)  Water bodies [512] (2018)  \\\n",
       "0                         0.0                        0.0   \n",
       "1                         0.0                        0.0   \n",
       "2                         0.0                        0.0   \n",
       "3                         0.0                        0.0   \n",
       "4                         0.0                        0.0   \n",
       "\n",
       "   Dump sites [132] (2018)  Sparsely vegetated areas [333] (2018)  \\\n",
       "0                      0.0                                    0.0   \n",
       "1                      0.0                                    0.0   \n",
       "2                      0.0                                    0.0   \n",
       "3                      0.0                                    0.0   \n",
       "4                      0.0                                    0.0   \n",
       "\n",
       "   Bare rocks [332] (2018)  Sea and ocean [523] (2018)  \\\n",
       "0                      0.0                         0.0   \n",
       "1                      0.0                         0.0   \n",
       "2                      0.0                         0.0   \n",
       "3                      0.0                         0.0   \n",
       "4                      0.0                         0.0   \n",
       "\n",
       "   Burnt areas [334] (2018)  Fruit trees and berry plantations [222] (2018)  \\\n",
       "0                       0.0                                             0.0   \n",
       "1                       0.0                                             0.0   \n",
       "2                       0.0                                             0.0   \n",
       "3                       0.0                                             0.0   \n",
       "4                       0.0                                             0.0   \n",
       "\n",
       "   Agro-forestry areas [244] (2018)  \n",
       "0                               0.0  \n",
       "1                               0.0  \n",
       "2                               0.0  \n",
       "3                               0.0  \n",
       "4                               0.0  \n",
       "\n",
       "[5 rows x 145 columns]"
      ]
     },
     "execution_count": 48,
     "metadata": {},
     "output_type": "execute_result"
    }
   ],
   "source": [
    "complete.head(5)"
   ]
  },
  {
   "cell_type": "code",
   "execution_count": null,
   "metadata": {},
   "outputs": [],
   "source": []
  }
 ],
 "metadata": {
  "kernelspec": {
   "display_name": "Python 3",
   "language": "python",
   "name": "python3"
  },
  "language_info": {
   "codemirror_mode": {
    "name": "ipython",
    "version": 3
   },
   "file_extension": ".py",
   "mimetype": "text/x-python",
   "name": "python",
   "nbconvert_exporter": "python",
   "pygments_lexer": "ipython3",
   "version": "3.8.8"
  }
 },
 "nbformat": 4,
 "nbformat_minor": 4
}
